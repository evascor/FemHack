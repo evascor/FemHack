{
 "cells": [
  {
   "cell_type": "code",
   "execution_count": 32,
   "metadata": {},
   "outputs": [
    {
     "name": "stderr",
     "output_type": "stream",
     "text": [
      "[nltk_data] Downloading package punkt to\n",
      "[nltk_data]     C:\\Users\\fundacion\\AppData\\Roaming\\nltk_data...\n",
      "[nltk_data]   Package punkt is already up-to-date!\n",
      "[nltk_data] Downloading package stopwords to\n",
      "[nltk_data]     C:\\Users\\fundacion\\AppData\\Roaming\\nltk_data...\n",
      "[nltk_data]   Package stopwords is already up-to-date!\n"
     ]
    }
   ],
   "source": [
    "import pandas as pd\n",
    "import nltk\n",
    "from nltk.corpus import stopwords\n",
    "from nltk.tokenize import word_tokenize\n",
    "import string\n",
    "from sklearn.ensemble import GradientBoostingClassifier\n",
    "\n",
    "# Descargar recursos adicionales de NLTK\n",
    "nltk.download('punkt')\n",
    "nltk.download('stopwords')\n",
    "\n",
    "# Definir palabras vacías adicionales a eliminar\n",
    "extra_stopwords = [...]  # Agrega aquí las palabras adicionales a eliminar\n",
    "\n",
    "# Función para preprocesar el texto\n",
    "def preprocess_text(text):\n",
    "    # Tokenización\n",
    "    tokens = word_tokenize(text)\n",
    "    \n",
    "    # Eliminación de signos de puntuación\n",
    "    tokens = [token for token in tokens if token not in string.punctuation]\n",
    "    \n",
    "    # Conversión a minúsculas\n",
    "    tokens = [token.lower() for token in tokens]\n",
    "    \n",
    "    # Eliminación de palabras vacías\n",
    "    stop_words = set(stopwords.words('english') + extra_stopwords)\n",
    "    tokens = [token for token in tokens if token not in stop_words]\n",
    "    \n",
    "    # Unir tokens preprocesados en una cadena de texto\n",
    "    preprocessed_text = ' '.join(tokens)\n",
    "    \n",
    "    return preprocessed_text\n",
    "\n",
    "# Archivo de entrenamiento\n",
    "df_train = pd.read_csv('dataframe_train.csv')\n",
    "\n",
    "# Aplicar preprocesamiento a las columnas relevantes del conjunto de entrenamiento\n",
    "df_train['title_cleaned_preprocessed'] = df_train['title_cleaned_nostopwords'].apply(preprocess_text)\n",
    "df_train['description_preprocessed'] = df_train['description_nostopwords'].apply(preprocess_text)\n",
    "df_train['full_content_preprocessed'] = df_train['full_content_nostopwords'].apply(preprocess_text)\n",
    "\n",
    "# Archivo de prueba\n",
    "df_test = pd.read_csv('dataframe_test.csv')\n",
    "\n",
    "# Aplicar preprocesamiento a las columnas relevantes del conjunto de prueba\n",
    "df_test['title_cleaned_preprocessed'] = df_test['title_cleaned_nostopwords'].apply(preprocess_text)\n",
    "df_test['description_preprocessed'] = df_test['description_nostopwords'].apply(preprocess_text)\n",
    "df_test['full_content_preprocessed'] = df_test['full_content_nostopwords'].apply(preprocess_text)"
   ]
  },
  {
   "cell_type": "code",
   "execution_count": 33,
   "metadata": {},
   "outputs": [
    {
     "name": "stderr",
     "output_type": "stream",
     "text": [
      "[nltk_data] Downloading package punkt to\n",
      "[nltk_data]     C:\\Users\\fundacion\\AppData\\Roaming\\nltk_data...\n",
      "[nltk_data]   Package punkt is already up-to-date!\n",
      "[nltk_data] Downloading package stopwords to\n",
      "[nltk_data]     C:\\Users\\fundacion\\AppData\\Roaming\\nltk_data...\n",
      "[nltk_data]   Package stopwords is already up-to-date!\n"
     ]
    }
   ],
   "source": [
    "df_clean_train = pd.read_csv('./dataframe_train.csv')\n",
    "\n",
    "# Descargar recursos adicionales de NLTK\n",
    "nltk.download('punkt')\n",
    "nltk.download('stopwords')\n",
    "\n",
    "# Definir palabras vacías adicionales a eliminar\n",
    "extra_stopwords = [...]  # Agrega aquí las palabras adicionales a eliminar\n",
    "\n",
    "# Función para preprocesar el texto\n",
    "def preprocess_text(text):\n",
    "    # Tokenización\n",
    "    tokens = word_tokenize(text)\n",
    "    \n",
    "    # Eliminación de signos de puntuación\n",
    "    tokens = [token for token in tokens if token not in string.punctuation]\n",
    "    \n",
    "    # Conversión a minúsculas\n",
    "    tokens = [token.lower() for token in tokens]\n",
    "    \n",
    "    # Eliminación de palabras vacías\n",
    "    stop_words = set(stopwords.words('english') + extra_stopwords)\n",
    "    tokens = [token for token in tokens if token not in stop_words]\n",
    "    \n",
    "    # Unir tokens preprocesados en una cadena de texto\n",
    "    preprocessed_text = ' '.join(tokens)\n",
    "    \n",
    "    return preprocessed_text\n",
    "\n",
    "# Aplicar preprocesamiento a las columnas relevantes\n",
    "df_clean_train['title_cleaned_preprocessed'] = df_clean_train['title_cleaned_nostopwords'].apply(preprocess_text)\n",
    "df_clean_train['description_preprocessed'] = df_clean_train['description_nostopwords'].apply(preprocess_text)\n",
    "df_clean_train['full_content_preprocessed'] = df_clean_train['full_content_nostopwords'].apply(preprocess_text)\n"
   ]
  },
  {
   "cell_type": "code",
   "execution_count": 34,
   "metadata": {},
   "outputs": [],
   "source": [
    "from sklearn.feature_extraction.text import TfidfVectorizer\n",
    "\n",
    "# Crear el vectorizador TF-IDF\n",
    "vectorizer = TfidfVectorizer()\n",
    "\n",
    "# Ajustar y transformar el vectorizador en los datos preprocesados\n",
    "features = vectorizer.fit_transform(df_clean_train['full_content_preprocessed'])\n"
   ]
  },
  {
   "cell_type": "code",
   "execution_count": 35,
   "metadata": {},
   "outputs": [],
   "source": [
    "supporters = df_clean_train['supporters'].to_numpy()\n",
    "from scipy.sparse import hstack\n",
    "\n",
    "# Concatenar la matriz 'supporters' con 'features'\n",
    "features_with_supporters = hstack((features, supporters.reshape(-1, 1)))\n"
   ]
  },
  {
   "cell_type": "code",
   "execution_count": 36,
   "metadata": {},
   "outputs": [
    {
     "name": "stdout",
     "output_type": "stream",
     "text": [
      "Precisión del modelo de Gradient Boosting: 0.8554216867469879\n"
     ]
    }
   ],
   "source": [
    "from sklearn.model_selection import train_test_split\n",
    "from sklearn.tree import DecisionTreeClassifier\n",
    "from sklearn.metrics import accuracy_score\n",
    "\n",
    "# Dividir los datos en conjunto de entrenamiento y prueba\n",
    "X_train, X_test, y_train, y_test = train_test_split(features, df_clean_train['victory_flag'], test_size=0.2, random_state=42)\n",
    "\n",
    "# Crear y entrenar el modelo de Árbol de Decisión\n",
    "gb_model = GradientBoostingClassifier(random_state=42)\n",
    "gb_model.fit(X_train, y_train)\n",
    "\n",
    "# Realizar predicciones en el conjunto de prueba\n",
    "y_pred = gb_model.predict(X_test)\n",
    "\n",
    "# Calcular la precisión del modelo\n",
    "accuracy = accuracy_score(y_test, y_pred)\n",
    "print(\"Precisión del modelo de Gradient Boosting:\", accuracy)"
   ]
  },
  {
   "cell_type": "code",
   "execution_count": 37,
   "metadata": {},
   "outputs": [
    {
     "name": "stdout",
     "output_type": "stream",
     "text": [
      "La predicción es: [0]\n"
     ]
    }
   ],
   "source": [
    "# Aplicar preprocesamiento y extracción de características a nuevos datos\n",
    "new_text = preprocess_text(\"GRANT MILITARY BURIAL HONORS WOMEN WWII PILOTS\")\n",
    "new_features = vectorizer.transform([new_text])\n",
    "\n",
    "# Realizar predicciones\n",
    "predictions = gb_model.predict(new_features)\n",
    "\n",
    "# Imprimir la predicción\n",
    "print(\"La predicción es:\", predictions)"
   ]
  },
  {
   "cell_type": "code",
   "execution_count": 38,
   "metadata": {},
   "outputs": [
    {
     "data": {
      "text/html": [
       "<div>\n",
       "<style scoped>\n",
       "    .dataframe tbody tr th:only-of-type {\n",
       "        vertical-align: middle;\n",
       "    }\n",
       "\n",
       "    .dataframe tbody tr th {\n",
       "        vertical-align: top;\n",
       "    }\n",
       "\n",
       "    .dataframe thead th {\n",
       "        text-align: right;\n",
       "    }\n",
       "</style>\n",
       "<table border=\"1\" class=\"dataframe\">\n",
       "  <thead>\n",
       "    <tr style=\"text-align: right;\">\n",
       "      <th></th>\n",
       "      <th>title_cleaned_nostopwords</th>\n",
       "      <th>description_nostopwords</th>\n",
       "      <th>full_content_nostopwords</th>\n",
       "      <th>supporters</th>\n",
       "      <th>title_cleaned_preprocessed</th>\n",
       "      <th>description_preprocessed</th>\n",
       "      <th>full_content_preprocessed</th>\n",
       "      <th>combined_preprocessed</th>\n",
       "      <th>victory_flag_prediction</th>\n",
       "    </tr>\n",
       "  </thead>\n",
       "  <tbody>\n",
       "    <tr>\n",
       "      <th>171</th>\n",
       "      <td>FUNDED IVF SEX COUPLES ENGLAND</td>\n",
       "      <td>ENGLAND , SEX RELATIONSHIP NEED AROUND 6 FAILE...</td>\n",
       "      <td>ENGLAND , SEX RELATIONSHIP NEED AROUND 6 FAILE...</td>\n",
       "      <td>56116</td>\n",
       "      <td>funded ivf sex couples england</td>\n",
       "      <td>england sex relationship need around 6 failed ...</td>\n",
       "      <td>england sex relationship need around 6 failed ...</td>\n",
       "      <td>funded ivf sex couples england england sex rel...</td>\n",
       "      <td>1</td>\n",
       "    </tr>\n",
       "    <tr>\n",
       "      <th>207</th>\n",
       "      <td>GET ENDOMETRIOSIS RECOGNISED DISABILITY</td>\n",
       "      <td>DISABILITY . 11 YEAR AGO DIAGNOSED ENDOMETRIOS...</td>\n",
       "      <td>WANT RAISE AWARENESS ENDOMETRIOSIS WOULD LOVE ...</td>\n",
       "      <td>4212</td>\n",
       "      <td>get endometriosis recognised disability</td>\n",
       "      <td>disability 11 year ago diagnosed endometriosis...</td>\n",
       "      <td>want raise awareness endometriosis would love ...</td>\n",
       "      <td>get endometriosis recognised disability disabi...</td>\n",
       "      <td>1</td>\n",
       "    </tr>\n",
       "    <tr>\n",
       "      <th>272</th>\n",
       "      <td>PROVIDE SAFE HOUSING FOSTER HOMELESS STUDENTS ...</td>\n",
       "      <td>SAFE STABLE HOUSING NEED LONG TERM . , 'VE CLO...</td>\n",
       "      <td>* PETITION UPDATE * THANKS MUCH SUPPORT CAMPAI...</td>\n",
       "      <td>125575</td>\n",
       "      <td>provide safe housing foster homeless students ...</td>\n",
       "      <td>safe stable housing need long term 've closed ...</td>\n",
       "      <td>petition update thanks much support campaign s...</td>\n",
       "      <td>provide safe housing foster homeless students ...</td>\n",
       "      <td>1</td>\n",
       "    </tr>\n",
       "    <tr>\n",
       "      <th>274</th>\n",
       "      <td>TELL ELECTRONIC ARTS OPPOSE INTERNET CENSORSHIP</td>\n",
       "      <td>SOPA . N'T MESS INTERNET , EA . REGRET .</td>\n",
       "      <td>STOP ONLINE PIRACY ACT ( SOPA ) TOOL PROTECTS ...</td>\n",
       "      <td>136264</td>\n",
       "      <td>tell electronic arts oppose internet censorship</td>\n",
       "      <td>sopa n't mess internet ea regret</td>\n",
       "      <td>stop online piracy act sopa tool protects mono...</td>\n",
       "      <td>tell electronic arts oppose internet censorshi...</td>\n",
       "      <td>1</td>\n",
       "    </tr>\n",
       "    <tr>\n",
       "      <th>306</th>\n",
       "      <td>LOCAL SCIENTIST FACES RACIAL DISCRIMINATION FI...</td>\n",
       "      <td>NAME DR. VINIT SHARMA COMPUTATIONAL SCIENTIST ...</td>\n",
       "      <td>NAME DR. VINIT SHARMA COMPUTATIONAL SCIENTIST ...</td>\n",
       "      <td>11978</td>\n",
       "      <td>local scientist faces racial discrimination fi...</td>\n",
       "      <td>name dr. vinit sharma computational scientist ...</td>\n",
       "      <td>name dr. vinit sharma computational scientist ...</td>\n",
       "      <td>local scientist faces racial discrimination fi...</td>\n",
       "      <td>1</td>\n",
       "    </tr>\n",
       "    <tr>\n",
       "      <th>317</th>\n",
       "      <td>MAKE SEX RELATIONSHIPS EDUCATION ( SRE ) COMPU...</td>\n",
       "      <td>SEXTING WIDESPREAD ACCESS PORN - SCHOOL ENVIRO...</td>\n",
       "      <td>YOUNG PEOPLE TODAY SUBJECTED PRESSURES SCHOOLS...</td>\n",
       "      <td>46150</td>\n",
       "      <td>make sex relationships education sre compulsor...</td>\n",
       "      <td>sexting widespread access porn school environm...</td>\n",
       "      <td>young people today subjected pressures schools...</td>\n",
       "      <td>make sex relationships education sre compulsor...</td>\n",
       "      <td>1</td>\n",
       "    </tr>\n",
       "    <tr>\n",
       "      <th>398</th>\n",
       "      <td>JUSTICE MATHIS JOUANNEAU - JUSTICE MATHIS</td>\n",
       "      <td>MATHIS ABDUCTED FATHER CUSTODY WEEKEND SEPTEMB...</td>\n",
       "      <td>MATHIS ABDUCTED FATHER CUSTODY WEEKEND SEPTEMB...</td>\n",
       "      <td>135166</td>\n",
       "      <td>justice mathis jouanneau justice mathis</td>\n",
       "      <td>mathis abducted father custody weekend septemb...</td>\n",
       "      <td>mathis abducted father custody weekend septemb...</td>\n",
       "      <td>justice mathis jouanneau justice mathis mathis...</td>\n",
       "      <td>1</td>\n",
       "    </tr>\n",
       "  </tbody>\n",
       "</table>\n",
       "</div>"
      ],
      "text/plain": [
       "                             title_cleaned_nostopwords  \\\n",
       "171                     FUNDED IVF SEX COUPLES ENGLAND   \n",
       "207            GET ENDOMETRIOSIS RECOGNISED DISABILITY   \n",
       "272  PROVIDE SAFE HOUSING FOSTER HOMELESS STUDENTS ...   \n",
       "274    TELL ELECTRONIC ARTS OPPOSE INTERNET CENSORSHIP   \n",
       "306  LOCAL SCIENTIST FACES RACIAL DISCRIMINATION FI...   \n",
       "317  MAKE SEX RELATIONSHIPS EDUCATION ( SRE ) COMPU...   \n",
       "398          JUSTICE MATHIS JOUANNEAU - JUSTICE MATHIS   \n",
       "\n",
       "                               description_nostopwords  \\\n",
       "171  ENGLAND , SEX RELATIONSHIP NEED AROUND 6 FAILE...   \n",
       "207  DISABILITY . 11 YEAR AGO DIAGNOSED ENDOMETRIOS...   \n",
       "272  SAFE STABLE HOUSING NEED LONG TERM . , 'VE CLO...   \n",
       "274           SOPA . N'T MESS INTERNET , EA . REGRET .   \n",
       "306  NAME DR. VINIT SHARMA COMPUTATIONAL SCIENTIST ...   \n",
       "317  SEXTING WIDESPREAD ACCESS PORN - SCHOOL ENVIRO...   \n",
       "398  MATHIS ABDUCTED FATHER CUSTODY WEEKEND SEPTEMB...   \n",
       "\n",
       "                              full_content_nostopwords  supporters  \\\n",
       "171  ENGLAND , SEX RELATIONSHIP NEED AROUND 6 FAILE...       56116   \n",
       "207  WANT RAISE AWARENESS ENDOMETRIOSIS WOULD LOVE ...        4212   \n",
       "272  * PETITION UPDATE * THANKS MUCH SUPPORT CAMPAI...      125575   \n",
       "274  STOP ONLINE PIRACY ACT ( SOPA ) TOOL PROTECTS ...      136264   \n",
       "306  NAME DR. VINIT SHARMA COMPUTATIONAL SCIENTIST ...       11978   \n",
       "317  YOUNG PEOPLE TODAY SUBJECTED PRESSURES SCHOOLS...       46150   \n",
       "398  MATHIS ABDUCTED FATHER CUSTODY WEEKEND SEPTEMB...      135166   \n",
       "\n",
       "                            title_cleaned_preprocessed  \\\n",
       "171                     funded ivf sex couples england   \n",
       "207            get endometriosis recognised disability   \n",
       "272  provide safe housing foster homeless students ...   \n",
       "274    tell electronic arts oppose internet censorship   \n",
       "306  local scientist faces racial discrimination fi...   \n",
       "317  make sex relationships education sre compulsor...   \n",
       "398            justice mathis jouanneau justice mathis   \n",
       "\n",
       "                              description_preprocessed  \\\n",
       "171  england sex relationship need around 6 failed ...   \n",
       "207  disability 11 year ago diagnosed endometriosis...   \n",
       "272  safe stable housing need long term 've closed ...   \n",
       "274                   sopa n't mess internet ea regret   \n",
       "306  name dr. vinit sharma computational scientist ...   \n",
       "317  sexting widespread access porn school environm...   \n",
       "398  mathis abducted father custody weekend septemb...   \n",
       "\n",
       "                             full_content_preprocessed  \\\n",
       "171  england sex relationship need around 6 failed ...   \n",
       "207  want raise awareness endometriosis would love ...   \n",
       "272  petition update thanks much support campaign s...   \n",
       "274  stop online piracy act sopa tool protects mono...   \n",
       "306  name dr. vinit sharma computational scientist ...   \n",
       "317  young people today subjected pressures schools...   \n",
       "398  mathis abducted father custody weekend septemb...   \n",
       "\n",
       "                                 combined_preprocessed  \\\n",
       "171  funded ivf sex couples england england sex rel...   \n",
       "207  get endometriosis recognised disability disabi...   \n",
       "272  provide safe housing foster homeless students ...   \n",
       "274  tell electronic arts oppose internet censorshi...   \n",
       "306  local scientist faces racial discrimination fi...   \n",
       "317  make sex relationships education sre compulsor...   \n",
       "398  justice mathis jouanneau justice mathis mathis...   \n",
       "\n",
       "     victory_flag_prediction  \n",
       "171                        1  \n",
       "207                        1  \n",
       "272                        1  \n",
       "274                        1  \n",
       "306                        1  \n",
       "317                        1  \n",
       "398                        1  "
      ]
     },
     "execution_count": 38,
     "metadata": {},
     "output_type": "execute_result"
    }
   ],
   "source": [
    "# Cargar el archivo de prueba (suponiendo que tiene columnas similares a df_clean_train)\n",
    "df_test = pd.read_csv('dataframe_test.csv')\n",
    "\n",
    "# Aplicar preprocesamiento al texto en el archivo de prueba\n",
    "df_test['title_cleaned_preprocessed'] = df_test['title_cleaned_nostopwords'].apply(preprocess_text)\n",
    "df_test['description_preprocessed'] = df_test['description_nostopwords'].apply(preprocess_text)\n",
    "df_test['full_content_preprocessed'] = df_test['full_content_nostopwords'].apply(preprocess_text)\n",
    "\n",
    "# Combinar las columnas preprocesadas en un solo texto\n",
    "df_test['combined_preprocessed'] = df_test['title_cleaned_preprocessed'] + ' ' + df_test['description_preprocessed'] + ' ' + df_test['full_content_preprocessed']\n",
    "\n",
    "# Transformar el texto preprocesado en características utilizando el vectorizador\n",
    "test_features = vectorizer.transform(df_test['combined_preprocessed'])\n",
    "\n",
    "# Realizar predicciones en los datos de prueba utilizando el modelo entrenado\n",
    "predictions = gb_model.predict(test_features)\n",
    "\n",
    "# Añadir la columna 'victory_flag_prediction' al dataframe de prueba\n",
    "df_test['victory_flag_prediction'] = predictions\n",
    "\n",
    "# Filtrar los valores del dataframe cuando victory_flag_prediction es igual a 1\n",
    "filtered_df = df_test[df_test['victory_flag_prediction'] == 1]\n",
    "\n",
    "# Mostrar los valores filtrados\n",
    "filtered_df\n",
    "\n"
   ]
  },
  {
   "cell_type": "code",
   "execution_count": 39,
   "metadata": {},
   "outputs": [
    {
     "name": "stdout",
     "output_type": "stream",
     "text": [
      "Precisión del modelo: 85.54%\n"
     ]
    }
   ],
   "source": [
    "accuracy = accuracy_score(y_test, y_pred)\n",
    "\n",
    "print(\"Precisión del modelo: {:.2f}%\".format(accuracy * 100))"
   ]
  },
  {
   "cell_type": "code",
   "execution_count": 40,
   "metadata": {},
   "outputs": [
    {
     "data": {
      "image/png": "[encoded data removed]",
      "text/plain": [
       "<Figure size 800x600 with 2 Axes>"
      ]
     },
     "metadata": {},
     "output_type": "display_data"
    }
   ],
   "source": [
    "from sklearn.metrics import confusion_matrix\n",
    "import seaborn as sns\n",
    "import matplotlib.pyplot as plt\n",
    "\n",
    "# Obtener la matriz de confusión\n",
    "cm = confusion_matrix(y_test, y_pred)\n",
    "\n",
    "# Visualizar la matriz de confusión\n",
    "plt.figure(figsize=(8, 6))\n",
    "sns.heatmap(cm, annot=True, fmt='d', cmap='Blues')\n",
    "plt.title('Matriz de Confusión')\n",
    "plt.xlabel('Clase Predicha')\n",
    "plt.ylabel('Clase Real')\n",
    "plt.show()"
   ]
  },
  {
   "cell_type": "code",
   "execution_count": 41,
   "metadata": {},
   "outputs": [
    {
     "name": "stdout",
     "output_type": "stream",
     "text": [
      "              precision    recall  f1-score   support\n",
      "\n",
      "           0       0.86      0.99      0.92       285\n",
      "           1       0.43      0.06      0.11        47\n",
      "\n",
      "    accuracy                           0.86       332\n",
      "   macro avg       0.65      0.52      0.52       332\n",
      "weighted avg       0.80      0.86      0.81       332\n",
      "\n"
     ]
    }
   ],
   "source": [
    "from sklearn.metrics import classification_report\n",
    "\n",
    "print(classification_report(y_test, y_pred))"
   ]
  },
  {
   "cell_type": "code",
   "execution_count": 42,
   "metadata": {},
   "outputs": [
    {
     "name": "stdout",
     "output_type": "stream",
     "text": [
      "Precisión del modelo: 85.54%\n",
      "F1-Score del modelo: 0.11\n"
     ]
    }
   ],
   "source": [
    "from sklearn.metrics import accuracy_score, f1_score\n",
    "\n",
    "# Calcular la precisión de las predicciones\n",
    "accuracy = accuracy_score(y_test, y_pred)\n",
    "print(\"Precisión del modelo: {:.2f}%\".format(accuracy * 100))\n",
    "\n",
    "# Calcular el F1-Score\n",
    "f1 = f1_score(y_test, y_pred)\n",
    "print(\"F1-Score del modelo: {:.2f}\".format(f1))\n"
   ]
  }
 ],
 "metadata": {
  "kernelspec": {
   "display_name": "base",
   "language": "python",
   "name": "python3"
  },
  "language_info": {
   "codemirror_mode": {
    "name": "ipython",
    "version": 3
   },
   "file_extension": ".py",
   "mimetype": "text/x-python",
   "name": "python",
   "nbconvert_exporter": "python",
   "pygments_lexer": "ipython3",
   "version": "3.10.9"
  },
  "orig_nbformat": 4
 },
 "nbformat": 4,
 "nbformat_minor": 2
}
