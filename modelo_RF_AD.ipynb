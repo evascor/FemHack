{
 "cells": [
  {
   "cell_type": "code",
   "execution_count": 94,
   "metadata": {},
   "outputs": [
    {
     "name": "stderr",
     "output_type": "stream",
     "text": [
      "[nltk_data] Downloading package punkt to\n",
      "[nltk_data]     C:\\Users\\fundacion\\AppData\\Roaming\\nltk_data...\n",
      "[nltk_data]   Package punkt is already up-to-date!\n",
      "[nltk_data] Downloading package stopwords to\n",
      "[nltk_data]     C:\\Users\\fundacion\\AppData\\Roaming\\nltk_data...\n",
      "[nltk_data]   Package stopwords is already up-to-date!\n"
     ]
    }
   ],
   "source": [
    "import pandas as pd\n",
    "import nltk\n",
    "from nltk.corpus import stopwords\n",
    "from nltk.tokenize import word_tokenize\n",
    "import string\n",
    "\n",
    "# Descargar recursos adicionales de NLTK\n",
    "nltk.download('punkt')\n",
    "nltk.download('stopwords')\n",
    "\n",
    "# Definir palabras vacías adicionales a eliminar\n",
    "extra_stopwords = [...]  # Agrega aquí las palabras adicionales a eliminar\n",
    "\n",
    "# Función para preprocesar el texto\n",
    "def preprocess_text(text):\n",
    "    # Tokenización\n",
    "    tokens = word_tokenize(text)\n",
    "    \n",
    "    # Eliminación de signos de puntuación\n",
    "    tokens = [token for token in tokens if token not in string.punctuation]\n",
    "    \n",
    "    # Conversión a minúsculas\n",
    "    tokens = [token.lower() for token in tokens]\n",
    "    \n",
    "    # Eliminación de palabras vacías\n",
    "    stop_words = set(stopwords.words('english') + extra_stopwords)\n",
    "    tokens = [token for token in tokens if token not in stop_words]\n",
    "    \n",
    "    # Unir tokens preprocesados en una cadena de texto\n",
    "    preprocessed_text = ' '.join(tokens)\n",
    "    \n",
    "    return preprocessed_text\n",
    "\n",
    "# Archivo de entrenamiento\n",
    "df_train = pd.read_csv('dataframe_train.csv')\n",
    "\n",
    "# Aplicar preprocesamiento a las columnas relevantes del conjunto de entrenamiento\n",
    "df_train['title_cleaned_preprocessed'] = df_train['title_cleaned_nostopwords'].apply(preprocess_text)\n",
    "df_train['description_preprocessed'] = df_train['description_nostopwords'].apply(preprocess_text)\n",
    "df_train['full_content_preprocessed'] = df_train['full_content_nostopwords'].apply(preprocess_text)\n",
    "\n",
    "# Archivo de prueba\n",
    "df_test = pd.read_csv('dataframe_test.csv')\n",
    "\n",
    "# Aplicar preprocesamiento a las columnas relevantes del conjunto de prueba\n",
    "df_test['title_cleaned_preprocessed'] = df_test['title_cleaned_nostopwords'].apply(preprocess_text)\n",
    "df_test['description_preprocessed'] = df_test['description_nostopwords'].apply(preprocess_text)\n",
    "df_test['full_content_preprocessed'] = df_test['full_content_nostopwords'].apply(preprocess_text)"
   ]
  },
  {
   "cell_type": "code",
   "execution_count": 95,
   "metadata": {},
   "outputs": [
    {
     "name": "stderr",
     "output_type": "stream",
     "text": [
      "[nltk_data] Downloading package punkt to\n",
      "[nltk_data]     C:\\Users\\fundacion\\AppData\\Roaming\\nltk_data...\n",
      "[nltk_data]   Package punkt is already up-to-date!\n",
      "[nltk_data] Downloading package stopwords to\n",
      "[nltk_data]     C:\\Users\\fundacion\\AppData\\Roaming\\nltk_data...\n",
      "[nltk_data]   Package stopwords is already up-to-date!\n"
     ]
    }
   ],
   "source": [
    "# NO\n",
    "df_clean_train = pd.read_csv('./dataframe_train.csv')\n",
    "\n",
    "# Descargar recursos adicionales de NLTK\n",
    "nltk.download('punkt')\n",
    "nltk.download('stopwords')\n",
    "\n",
    "# Definir palabras vacías adicionales a eliminar\n",
    "extra_stopwords = [...]  # Agrega aquí las palabras adicionales a eliminar\n",
    "\n",
    "# Función para preprocesar el texto\n",
    "def preprocess_text(text):\n",
    "    # Tokenización\n",
    "    tokens = word_tokenize(text)\n",
    "    \n",
    "    # Eliminación de signos de puntuación\n",
    "    tokens = [token for token in tokens if token not in string.punctuation]\n",
    "    \n",
    "    # Conversión a minúsculas\n",
    "    tokens = [token.lower() for token in tokens]\n",
    "    \n",
    "    # Eliminación de palabras vacías\n",
    "    stop_words = set(stopwords.words('english') + extra_stopwords)\n",
    "    tokens = [token for token in tokens if token not in stop_words]\n",
    "    \n",
    "    # Unir tokens preprocesados en una cadena de texto\n",
    "    preprocessed_text = ' '.join(tokens)\n",
    "    \n",
    "    return preprocessed_text\n",
    "\n",
    "# Aplicar preprocesamiento a las columnas relevantes\n",
    "df_clean_train['title_cleaned_preprocessed'] = df_clean_train['title_cleaned_nostopwords'].apply(preprocess_text)\n",
    "df_clean_train['description_preprocessed'] = df_clean_train['description_nostopwords'].apply(preprocess_text)\n",
    "df_clean_train['full_content_preprocessed'] = df_clean_train['full_content_nostopwords'].apply(preprocess_text)\n"
   ]
  },
  {
   "cell_type": "code",
   "execution_count": 96,
   "metadata": {},
   "outputs": [],
   "source": [
    "from sklearn.feature_extraction.text import TfidfVectorizer\n",
    "\n",
    "# Crear el vectorizador TF-IDF\n",
    "vectorizer = TfidfVectorizer()\n",
    "\n",
    "# Ajustar y transformar el vectorizador en los datos preprocesados\n",
    "features = vectorizer.fit_transform(df_clean_train['full_content_preprocessed'])\n"
   ]
  },
  {
   "cell_type": "code",
   "execution_count": 97,
   "metadata": {},
   "outputs": [],
   "source": [
    "supporters = df_clean_train['supporters'].to_numpy()\n",
    "from scipy.sparse import hstack\n",
    "\n",
    "# Concatenar la matriz 'supporters' con 'features'\n",
    "features_with_supporters = hstack((features, supporters.reshape(-1, 1)))\n"
   ]
  },
  {
   "cell_type": "code",
   "execution_count": 98,
   "metadata": {},
   "outputs": [
    {
     "name": "stdout",
     "output_type": "stream",
     "text": [
      "Precisión del modelo de Árbol de Decisión: 0.7198795180722891\n"
     ]
    }
   ],
   "source": [
    "from sklearn.model_selection import train_test_split\n",
    "from sklearn.tree import DecisionTreeClassifier\n",
    "from sklearn.metrics import accuracy_score\n",
    "\n",
    "# Dividir los datos en conjunto de entrenamiento y prueba\n",
    "X_train, X_test, y_train, y_test = train_test_split(features, df_clean_train['victory_flag'], test_size=0.2, random_state=42)\n",
    "\n",
    "# Crear y entrenar el modelo de Árbol de Decisión\n",
    "dt_model = DecisionTreeClassifier(random_state=42, class_weight={1: 3.5})\n",
    "dt_model.fit(X_train, y_train)\n",
    "\n",
    "# Realizar predicciones en el conjunto de prueba\n",
    "y_pred = dt_model.predict(X_test)\n",
    "\n",
    "# Calcular la precisión del modelo\n",
    "accuracy = accuracy_score(y_test, y_pred)\n",
    "print(\"Precisión del modelo de Árbol de Decisión:\", accuracy)\n"
   ]
  },
  {
   "cell_type": "code",
   "execution_count": 99,
   "metadata": {},
   "outputs": [
    {
     "name": "stdout",
     "output_type": "stream",
     "text": [
      "La predicción es: [0]\n"
     ]
    }
   ],
   "source": [
    "# Aplicar preprocesamiento y extracción de características a nuevos datos\n",
    "new_text = preprocess_text(\"GRANT MILITARY BURIAL HONORS WOMEN WWII PILOTS\")\n",
    "new_features = vectorizer.transform([new_text])\n",
    "\n",
    "# Realizar predicciones\n",
    "predictions = dt_model.predict(new_features)\n",
    "# Imprimir la predicción\n",
    "print(\"La predicción es:\", predictions)"
   ]
  },
  {
   "cell_type": "code",
   "execution_count": 100,
   "metadata": {},
   "outputs": [
    {
     "data": {
      "text/html": [
       "<div>\n",
       "<style scoped>\n",
       "    .dataframe tbody tr th:only-of-type {\n",
       "        vertical-align: middle;\n",
       "    }\n",
       "\n",
       "    .dataframe tbody tr th {\n",
       "        vertical-align: top;\n",
       "    }\n",
       "\n",
       "    .dataframe thead th {\n",
       "        text-align: right;\n",
       "    }\n",
       "</style>\n",
       "<table border=\"1\" class=\"dataframe\">\n",
       "  <thead>\n",
       "    <tr style=\"text-align: right;\">\n",
       "      <th></th>\n",
       "      <th>title_cleaned_nostopwords</th>\n",
       "      <th>description_nostopwords</th>\n",
       "      <th>full_content_nostopwords</th>\n",
       "      <th>supporters</th>\n",
       "      <th>title_cleaned_preprocessed</th>\n",
       "      <th>description_preprocessed</th>\n",
       "      <th>full_content_preprocessed</th>\n",
       "      <th>combined_preprocessed</th>\n",
       "      <th>victory_flag_prediction</th>\n",
       "    </tr>\n",
       "  </thead>\n",
       "  <tbody>\n",
       "    <tr>\n",
       "      <th>10</th>\n",
       "      <td>BRING BACK TRANS RIGHTS HEALTHCARE</td>\n",
       "      <td>TRUMP ADMINISTRATION ERASED CIVIL RIGHTS PROTE...</td>\n",
       "      <td>TRUMP ADMINISTRATION ERASED CIVIL RIGHTS PROTE...</td>\n",
       "      <td>90334</td>\n",
       "      <td>bring back trans rights healthcare</td>\n",
       "      <td>trump administration erased civil rights prote...</td>\n",
       "      <td>trump administration erased civil rights prote...</td>\n",
       "      <td>bring back trans rights healthcare trump admin...</td>\n",
       "      <td>1</td>\n",
       "    </tr>\n",
       "    <tr>\n",
       "      <th>13</th>\n",
       "      <td>CHANGE NEW ZEALAND 'S IMMIGRATION LAW RECOGNIS...</td>\n",
       "      <td>MEET DEMAND PROFESSIONAL STAFF CHANGING CURREN...</td>\n",
       "      <td>GO EAT DRINK LOCAL BAR FAVORITE RESTAURANT , B...</td>\n",
       "      <td>8148</td>\n",
       "      <td>change new zealand 's immigration law recognis...</td>\n",
       "      <td>meet demand professional staff changing curren...</td>\n",
       "      <td>go eat drink local bar favorite restaurant bar...</td>\n",
       "      <td>change new zealand 's immigration law recognis...</td>\n",
       "      <td>1</td>\n",
       "    </tr>\n",
       "    <tr>\n",
       "      <th>18</th>\n",
       "      <td>SAVE CARRIAGEWORKS ! CREATIVE CULTURAL SPACES ...</td>\n",
       "      <td>AUSTRALIA ’ LARGEST MULTI-ARTS PRECINCT , ICON...</td>\n",
       "      <td>SAVE CARRIAGEWORKS ACTION , BUILDING CARRIAGEW...</td>\n",
       "      <td>47459</td>\n",
       "      <td>save carriageworks creative cultural spaces im...</td>\n",
       "      <td>australia ’ largest multi-arts precinct iconic...</td>\n",
       "      <td>save carriageworks action building carriagewor...</td>\n",
       "      <td>save carriageworks creative cultural spaces im...</td>\n",
       "      <td>1</td>\n",
       "    </tr>\n",
       "    <tr>\n",
       "      <th>32</th>\n",
       "      <td>REFORM DALLAS POLICE STOP RACIAL VIOLENCE</td>\n",
       "      <td>DALLAS POLICE DEPARTMENT HISTORY RACIAL VIOLEN...</td>\n",
       "      <td>DALLAS POLICE DEPARTMENT HISTORY RACIAL VIOLEN...</td>\n",
       "      <td>2192</td>\n",
       "      <td>reform dallas police stop racial violence</td>\n",
       "      <td>dallas police department history racial violen...</td>\n",
       "      <td>dallas police department history racial violen...</td>\n",
       "      <td>reform dallas police stop racial violence dall...</td>\n",
       "      <td>1</td>\n",
       "    </tr>\n",
       "    <tr>\n",
       "      <th>33</th>\n",
       "      <td>SAVE ARTS - OPEN DANCE &amp; YOGA STUDIOS</td>\n",
       "      <td>SURVIVE , MANY ARTS COMMUNITY FITNESS INDUSTRY...</td>\n",
       "      <td>INDOOR SOCIAL GATHERINGS 10 LESS ALLOWED START...</td>\n",
       "      <td>2171</td>\n",
       "      <td>save arts open dance yoga studios</td>\n",
       "      <td>survive many arts community fitness industry b...</td>\n",
       "      <td>indoor social gatherings 10 less allowed start...</td>\n",
       "      <td>save arts open dance yoga studios survive many...</td>\n",
       "      <td>1</td>\n",
       "    </tr>\n",
       "    <tr>\n",
       "      <th>...</th>\n",
       "      <td>...</td>\n",
       "      <td>...</td>\n",
       "      <td>...</td>\n",
       "      <td>...</td>\n",
       "      <td>...</td>\n",
       "      <td>...</td>\n",
       "      <td>...</td>\n",
       "      <td>...</td>\n",
       "      <td>...</td>\n",
       "    </tr>\n",
       "    <tr>\n",
       "      <th>386</th>\n",
       "      <td>LET 'S CLOSE BEIRUT SLAUGHTERHOUSE HORRORS . #...</td>\n",
       "      <td>LIVE ANIMALS WORLD END LIVES TRAGICALLY KARANT...</td>\n",
       "      <td>LIVE ANIMALS WORLD END LIVES TRAGICALLY KARANT...</td>\n",
       "      <td>81628</td>\n",
       "      <td>let 's close beirut slaughterhouse horrors sla...</td>\n",
       "      <td>live animals world end lives tragically karant...</td>\n",
       "      <td>live animals world end lives tragically karant...</td>\n",
       "      <td>let 's close beirut slaughterhouse horrors sla...</td>\n",
       "      <td>1</td>\n",
       "    </tr>\n",
       "    <tr>\n",
       "      <th>396</th>\n",
       "      <td>EXONERATE KENNETH CLAIR : DNA EVIDENCE POINTS ...</td>\n",
       "      <td>NOVEMBER 15 , 1984 , 5-YEAR-OLD JERROD HESSLIN...</td>\n",
       "      <td>NOVEMBER 15 , 1984 , 5-YEAR-OLD JERROD HESSLIN...</td>\n",
       "      <td>170675</td>\n",
       "      <td>exonerate kenneth clair dna evidence points so...</td>\n",
       "      <td>november 15 1984 5-year-old jerrod hessling wi...</td>\n",
       "      <td>november 15 1984 5-year-old jerrod hessling wi...</td>\n",
       "      <td>exonerate kenneth clair dna evidence points so...</td>\n",
       "      <td>1</td>\n",
       "    </tr>\n",
       "    <tr>\n",
       "      <th>403</th>\n",
       "      <td>SAFEGUARD DISABILITY RIGHTS - SIGN UN PROTOCOL</td>\n",
       "      <td>GREAT FANFARE 2010 , HARPER GOVERNMENT RATIFIE...</td>\n",
       "      <td>GREAT FANFARE 2010 , HARPER GOVERNMENT RATIFIE...</td>\n",
       "      <td>27720</td>\n",
       "      <td>safeguard disability rights sign un protocol</td>\n",
       "      <td>great fanfare 2010 harper government ratified ...</td>\n",
       "      <td>great fanfare 2010 harper government ratified ...</td>\n",
       "      <td>safeguard disability rights sign un protocol g...</td>\n",
       "      <td>1</td>\n",
       "    </tr>\n",
       "    <tr>\n",
       "      <th>414</th>\n",
       "      <td>PETITION INTERNATIONAL MARITIME ORGANIZATION S...</td>\n",
       "      <td>PUBLIC SUPPORT ADVANCE MEETING ENORMOUSLY HELP...</td>\n",
       "      <td>MAY 2021 , MV X-PRESS PEARL SPILT 1,680 TONNES...</td>\n",
       "      <td>89876</td>\n",
       "      <td>petition international maritime organization s...</td>\n",
       "      <td>public support advance meeting enormously help...</td>\n",
       "      <td>may 2021 mv x-press pearl spilt 1,680 tonnes p...</td>\n",
       "      <td>petition international maritime organization s...</td>\n",
       "      <td>1</td>\n",
       "    </tr>\n",
       "    <tr>\n",
       "      <th>415</th>\n",
       "      <td>KEEP ARTS SCHOOLS</td>\n",
       "      <td>TALBOT COUNTY PUBLIC SCHOOLS DECIDED CUT FUNDS...</td>\n",
       "      <td>TALBOT COUNTY PUBLIC SCHOOLS DECIDED CUT FUNDS...</td>\n",
       "      <td>4565</td>\n",
       "      <td>keep arts schools</td>\n",
       "      <td>talbot county public schools decided cut funds...</td>\n",
       "      <td>talbot county public schools decided cut funds...</td>\n",
       "      <td>keep arts schools talbot county public schools...</td>\n",
       "      <td>1</td>\n",
       "    </tr>\n",
       "  </tbody>\n",
       "</table>\n",
       "<p>82 rows × 9 columns</p>\n",
       "</div>"
      ],
      "text/plain": [
       "                             title_cleaned_nostopwords  \\\n",
       "10                  BRING BACK TRANS RIGHTS HEALTHCARE   \n",
       "13   CHANGE NEW ZEALAND 'S IMMIGRATION LAW RECOGNIS...   \n",
       "18   SAVE CARRIAGEWORKS ! CREATIVE CULTURAL SPACES ...   \n",
       "32           REFORM DALLAS POLICE STOP RACIAL VIOLENCE   \n",
       "33               SAVE ARTS - OPEN DANCE & YOGA STUDIOS   \n",
       "..                                                 ...   \n",
       "386  LET 'S CLOSE BEIRUT SLAUGHTERHOUSE HORRORS . #...   \n",
       "396  EXONERATE KENNETH CLAIR : DNA EVIDENCE POINTS ...   \n",
       "403     SAFEGUARD DISABILITY RIGHTS - SIGN UN PROTOCOL   \n",
       "414  PETITION INTERNATIONAL MARITIME ORGANIZATION S...   \n",
       "415                                  KEEP ARTS SCHOOLS   \n",
       "\n",
       "                               description_nostopwords  \\\n",
       "10   TRUMP ADMINISTRATION ERASED CIVIL RIGHTS PROTE...   \n",
       "13   MEET DEMAND PROFESSIONAL STAFF CHANGING CURREN...   \n",
       "18   AUSTRALIA ’ LARGEST MULTI-ARTS PRECINCT , ICON...   \n",
       "32   DALLAS POLICE DEPARTMENT HISTORY RACIAL VIOLEN...   \n",
       "33   SURVIVE , MANY ARTS COMMUNITY FITNESS INDUSTRY...   \n",
       "..                                                 ...   \n",
       "386  LIVE ANIMALS WORLD END LIVES TRAGICALLY KARANT...   \n",
       "396  NOVEMBER 15 , 1984 , 5-YEAR-OLD JERROD HESSLIN...   \n",
       "403  GREAT FANFARE 2010 , HARPER GOVERNMENT RATIFIE...   \n",
       "414  PUBLIC SUPPORT ADVANCE MEETING ENORMOUSLY HELP...   \n",
       "415  TALBOT COUNTY PUBLIC SCHOOLS DECIDED CUT FUNDS...   \n",
       "\n",
       "                              full_content_nostopwords  supporters  \\\n",
       "10   TRUMP ADMINISTRATION ERASED CIVIL RIGHTS PROTE...       90334   \n",
       "13   GO EAT DRINK LOCAL BAR FAVORITE RESTAURANT , B...        8148   \n",
       "18   SAVE CARRIAGEWORKS ACTION , BUILDING CARRIAGEW...       47459   \n",
       "32   DALLAS POLICE DEPARTMENT HISTORY RACIAL VIOLEN...        2192   \n",
       "33   INDOOR SOCIAL GATHERINGS 10 LESS ALLOWED START...        2171   \n",
       "..                                                 ...         ...   \n",
       "386  LIVE ANIMALS WORLD END LIVES TRAGICALLY KARANT...       81628   \n",
       "396  NOVEMBER 15 , 1984 , 5-YEAR-OLD JERROD HESSLIN...      170675   \n",
       "403  GREAT FANFARE 2010 , HARPER GOVERNMENT RATIFIE...       27720   \n",
       "414  MAY 2021 , MV X-PRESS PEARL SPILT 1,680 TONNES...       89876   \n",
       "415  TALBOT COUNTY PUBLIC SCHOOLS DECIDED CUT FUNDS...        4565   \n",
       "\n",
       "                            title_cleaned_preprocessed  \\\n",
       "10                  bring back trans rights healthcare   \n",
       "13   change new zealand 's immigration law recognis...   \n",
       "18   save carriageworks creative cultural spaces im...   \n",
       "32           reform dallas police stop racial violence   \n",
       "33                   save arts open dance yoga studios   \n",
       "..                                                 ...   \n",
       "386  let 's close beirut slaughterhouse horrors sla...   \n",
       "396  exonerate kenneth clair dna evidence points so...   \n",
       "403       safeguard disability rights sign un protocol   \n",
       "414  petition international maritime organization s...   \n",
       "415                                  keep arts schools   \n",
       "\n",
       "                              description_preprocessed  \\\n",
       "10   trump administration erased civil rights prote...   \n",
       "13   meet demand professional staff changing curren...   \n",
       "18   australia ’ largest multi-arts precinct iconic...   \n",
       "32   dallas police department history racial violen...   \n",
       "33   survive many arts community fitness industry b...   \n",
       "..                                                 ...   \n",
       "386  live animals world end lives tragically karant...   \n",
       "396  november 15 1984 5-year-old jerrod hessling wi...   \n",
       "403  great fanfare 2010 harper government ratified ...   \n",
       "414  public support advance meeting enormously help...   \n",
       "415  talbot county public schools decided cut funds...   \n",
       "\n",
       "                             full_content_preprocessed  \\\n",
       "10   trump administration erased civil rights prote...   \n",
       "13   go eat drink local bar favorite restaurant bar...   \n",
       "18   save carriageworks action building carriagewor...   \n",
       "32   dallas police department history racial violen...   \n",
       "33   indoor social gatherings 10 less allowed start...   \n",
       "..                                                 ...   \n",
       "386  live animals world end lives tragically karant...   \n",
       "396  november 15 1984 5-year-old jerrod hessling wi...   \n",
       "403  great fanfare 2010 harper government ratified ...   \n",
       "414  may 2021 mv x-press pearl spilt 1,680 tonnes p...   \n",
       "415  talbot county public schools decided cut funds...   \n",
       "\n",
       "                                 combined_preprocessed  \\\n",
       "10   bring back trans rights healthcare trump admin...   \n",
       "13   change new zealand 's immigration law recognis...   \n",
       "18   save carriageworks creative cultural spaces im...   \n",
       "32   reform dallas police stop racial violence dall...   \n",
       "33   save arts open dance yoga studios survive many...   \n",
       "..                                                 ...   \n",
       "386  let 's close beirut slaughterhouse horrors sla...   \n",
       "396  exonerate kenneth clair dna evidence points so...   \n",
       "403  safeguard disability rights sign un protocol g...   \n",
       "414  petition international maritime organization s...   \n",
       "415  keep arts schools talbot county public schools...   \n",
       "\n",
       "     victory_flag_prediction  \n",
       "10                         1  \n",
       "13                         1  \n",
       "18                         1  \n",
       "32                         1  \n",
       "33                         1  \n",
       "..                       ...  \n",
       "386                        1  \n",
       "396                        1  \n",
       "403                        1  \n",
       "414                        1  \n",
       "415                        1  \n",
       "\n",
       "[82 rows x 9 columns]"
      ]
     },
     "execution_count": 100,
     "metadata": {},
     "output_type": "execute_result"
    }
   ],
   "source": [
    "# Cargar el archivo de prueba (suponiendo que tiene columnas similares a df_clean_train)\n",
    "df_test = pd.read_csv('dataframe_test.csv')\n",
    "\n",
    "# Aplicar preprocesamiento al texto en el archivo de prueba\n",
    "df_test['title_cleaned_preprocessed'] = df_test['title_cleaned_nostopwords'].apply(preprocess_text)\n",
    "df_test['description_preprocessed'] = df_test['description_nostopwords'].apply(preprocess_text)\n",
    "df_test['full_content_preprocessed'] = df_test['full_content_nostopwords'].apply(preprocess_text)\n",
    "\n",
    "# Combinar las columnas preprocesadas en un solo texto\n",
    "df_test['combined_preprocessed'] = df_test['title_cleaned_preprocessed'] + ' ' + df_test['description_preprocessed'] + ' ' + df_test['full_content_preprocessed']\n",
    "\n",
    "# Transformar el texto preprocesado en características utilizando el vectorizador\n",
    "test_features = vectorizer.transform(df_test['combined_preprocessed'])\n",
    "\n",
    "# Realizar predicciones en los datos de prueba utilizando el modelo entrenado\n",
    "predictions = dt_model.predict(test_features)\n",
    "\n",
    "# Añadir la columna 'victory_flag_prediction' al dataframe de prueba\n",
    "df_test['victory_flag_prediction'] = predictions\n",
    "\n",
    "# Filtrar los valores del dataframe cuando victory_flag_prediction es igual a 1\n",
    "filtered_df = df_test[df_test['victory_flag_prediction'] == 1]\n",
    "\n",
    "# Mostrar los valores filtrados\n",
    "filtered_df\n"
   ]
  },
  {
   "cell_type": "code",
   "execution_count": 101,
   "metadata": {},
   "outputs": [
    {
     "name": "stdout",
     "output_type": "stream",
     "text": [
      "Precisión del modelo: 71.99%\n"
     ]
    }
   ],
   "source": [
    "accuracy = accuracy_score(y_test, y_pred)\n",
    "\n",
    "print(\"Precisión del modelo: {:.2f}%\".format(accuracy * 100))"
   ]
  },
  {
   "cell_type": "code",
   "execution_count": 102,
   "metadata": {},
   "outputs": [
    {
     "data": {
      "image/png": "[encoded data removed]",
      "text/plain": [
       "<Figure size 800x600 with 2 Axes>"
      ]
     },
     "metadata": {},
     "output_type": "display_data"
    }
   ],
   "source": [
    "from sklearn.metrics import confusion_matrix\n",
    "import seaborn as sns\n",
    "import matplotlib.pyplot as plt\n",
    "\n",
    "# Obtener la matriz de confusión\n",
    "cm = confusion_matrix(y_test, y_pred)\n",
    "\n",
    "# Visualizar la matriz de confusión\n",
    "plt.figure(figsize=(8, 6))\n",
    "sns.heatmap(cm, annot=True, fmt='d', cmap='Blues')\n",
    "plt.title('Matriz de Confusión')\n",
    "plt.xlabel('Clase Predicha')\n",
    "plt.ylabel('Clase Real')\n",
    "plt.show()"
   ]
  },
  {
   "cell_type": "code",
   "execution_count": 103,
   "metadata": {},
   "outputs": [
    {
     "name": "stdout",
     "output_type": "stream",
     "text": [
      "              precision    recall  f1-score   support\n",
      "\n",
      "           0       0.87      0.79      0.83       285\n",
      "           1       0.19      0.30      0.23        47\n",
      "\n",
      "    accuracy                           0.72       332\n",
      "   macro avg       0.53      0.54      0.53       332\n",
      "weighted avg       0.78      0.72      0.74       332\n",
      "\n"
     ]
    }
   ],
   "source": [
    "from sklearn.metrics import classification_report\n",
    "\n",
    "print(classification_report(y_test, y_pred))"
   ]
  },
  {
   "cell_type": "code",
   "execution_count": 104,
   "metadata": {},
   "outputs": [
    {
     "name": "stdout",
     "output_type": "stream",
     "text": [
      "Precisión del modelo: 71.99%\n",
      "F1-Score del modelo: 0.23\n"
     ]
    }
   ],
   "source": [
    "from sklearn.metrics import accuracy_score, f1_score\n",
    "\n",
    "# Calcular la precisión de las predicciones\n",
    "accuracy = accuracy_score(y_test, y_pred)\n",
    "print(\"Precisión del modelo: {:.2f}%\".format(accuracy * 100))\n",
    "\n",
    "# Calcular el F1-Score\n",
    "f1 = f1_score(y_test, y_pred)\n",
    "print(\"F1-Score del modelo: {:.2f}\".format(f1))\n"
   ]
  },
  {
   "cell_type": "code",
   "execution_count": 105,
   "metadata": {},
   "outputs": [],
   "source": [
    "# Imports\n",
    "import numpy as np\n",
    "import pandas as pd\n",
    "import seaborn as sb\n",
    "import matplotlib.pyplot as plt\n",
    "%matplotlib inline\n",
    "plt.rcParams['figure.figsize'] = (16, 9)\n",
    "plt.style.use('ggplot')\n",
    "from sklearn import tree\n",
    "from sklearn.metrics import accuracy_score\n",
    "from sklearn.model_selection import KFold\n",
    "from sklearn.model_selection import cross_val_score\n",
    "from IPython.display import Image as PImage\n",
    "from subprocess import check_call\n",
    "from PIL import Image, ImageDraw, ImageFont"
   ]
  },
  {
   "cell_type": "code",
   "execution_count": 106,
   "metadata": {},
   "outputs": [
    {
     "data": {
      "text/plain": [
       "victory_flag\n",
       "0    1400\n",
       "1     258\n",
       "dtype: int64"
      ]
     },
     "execution_count": 106,
     "metadata": {},
     "output_type": "execute_result"
    }
   ],
   "source": [
    "df_clean_train.groupby('victory_flag').size()"
   ]
  },
  {
   "cell_type": "code",
   "execution_count": 107,
   "metadata": {},
   "outputs": [
    {
     "data": {
      "image/png": "[encoded data removed]",
      "text/plain": [
       "<Figure size 1600x900 with 1 Axes>"
      ]
     },
     "metadata": {},
     "output_type": "display_data"
    }
   ],
   "source": [
    "data = {'victory_flag': [1400, 258]}\n",
    "\n",
    "df_victory_flag = pd.DataFrame(data)\n",
    "\n",
    "plt.bar(df_victory_flag.index, df_victory_flag['victory_flag'])\n",
    "plt.xlabel('Categorias')\n",
    "plt.ylabel('Valores')\n",
    "plt.title('Grafico de barras')\n",
    "plt.show()"
   ]
  },
  {
   "attachments": {},
   "cell_type": "markdown",
   "metadata": {},
   "source": [
    "La barra de la izquierda indica 0- Peticiones que no salieron adelante y a la derecha 1- Peticiones que salieron adelante. Lo que nos muestra que estan desbalanceadas.\n",
    "\n",
    "Esto ocurre porque apenas hay peticiones que salgan adelante. En los datos que tenemos solo 254 salen adelante frente a las 1400 que no salen adelante."
   ]
  },
  {
   "attachments": {},
   "cell_type": "markdown",
   "metadata": {},
   "source": [
    "### Arbol Decision Añadiendo el Numero de Firmas ['supporters]"
   ]
  },
  {
   "cell_type": "code",
   "execution_count": 108,
   "metadata": {},
   "outputs": [
    {
     "name": "stdout",
     "output_type": "stream",
     "text": [
      "Precisión del modelo de Árbol de Decisión: 0.7710843373493976\n"
     ]
    }
   ],
   "source": [
    "from sklearn.model_selection import train_test_split\n",
    "from sklearn.tree import DecisionTreeClassifier\n",
    "from sklearn.metrics import accuracy_score\n",
    "\n",
    "# Dividir los datos en conjunto de entrenamiento y prueba\n",
    "X_train, X_test, y_train, y_test = train_test_split(features_with_supporters, df_clean_train['victory_flag'], test_size=0.2, random_state=42)\n",
    "\n",
    "# Crear y entrenar el modelo de Árbol de Decisión\n",
    "dt_model = DecisionTreeClassifier(random_state=42, class_weight={1: 5.4})\n",
    "dt_model.fit(X_train, y_train)\n",
    "\n",
    "# Realizar predicciones en el conjunto de prueba\n",
    "y_pred = dt_model.predict(X_test)\n",
    "\n",
    "# Calcular la precisión del modelo\n",
    "accuracy = accuracy_score(y_test, y_pred)\n",
    "print(\"Precisión del modelo de Árbol de Decisión:\", accuracy)"
   ]
  },
  {
   "cell_type": "code",
   "execution_count": 109,
   "metadata": {},
   "outputs": [
    {
     "name": "stdout",
     "output_type": "stream",
     "text": [
      "              precision    recall  f1-score   support\n",
      "\n",
      "           0       0.88      0.85      0.86       285\n",
      "           1       0.25      0.30      0.27        47\n",
      "\n",
      "    accuracy                           0.77       332\n",
      "   macro avg       0.56      0.57      0.57       332\n",
      "weighted avg       0.79      0.77      0.78       332\n",
      "\n"
     ]
    }
   ],
   "source": [
    "from sklearn.metrics import classification_report\n",
    "\n",
    "print(classification_report(y_test, y_pred))"
   ]
  },
  {
   "cell_type": "code",
   "execution_count": 110,
   "metadata": {},
   "outputs": [
    {
     "name": "stdout",
     "output_type": "stream",
     "text": [
      "Precisión del modelo: 77.11%\n",
      "F1-Score del modelo: 0.27\n"
     ]
    }
   ],
   "source": [
    "# Calcular la precisión de las predicciones\n",
    "accuracy = accuracy_score(y_test, y_pred)\n",
    "print(\"Precisión del modelo: {:.2f}%\".format(accuracy * 100))\n",
    "\n",
    "# Calcular el F1-Score\n",
    "f1 = f1_score(y_test, y_pred)\n",
    "print(\"F1-Score del modelo: {:.2f}\".format(f1))"
   ]
  },
  {
   "attachments": {},
   "cell_type": "markdown",
   "metadata": {},
   "source": [
    "Un F1-Score de 0.27 nos indica que aun hay mucho margen de mejora. Deberia tener al menos un 0.5 para ser un modelo predictivo aceptable, un valor de 0.7 o cercano a 1 seria lo optimo para realizar una prediccion acertada."
   ]
  },
  {
   "cell_type": "code",
   "execution_count": 111,
   "metadata": {},
   "outputs": [
    {
     "name": "stdout",
     "output_type": "stream",
     "text": [
      "AUC-ROC: 57.35%\n"
     ]
    }
   ],
   "source": [
    "from sklearn.metrics import roc_auc_score\n",
    "\n",
    "# Calcular las probabilidades de predicción para la clase positiva (clase 1)\n",
    "y_pred_prob = dt_model.predict_proba(X_test)[:, 1]\n",
    "\n",
    "# Calcular el AUC-ROC\n",
    "auc_roc = roc_auc_score(y_test, y_pred_prob)\n",
    "print(\"AUC-ROC: {:.2f}%\".format(auc_roc * 100))\n"
   ]
  },
  {
   "attachments": {},
   "cell_type": "markdown",
   "metadata": {},
   "source": [
    "Un valor de 57.35% para el AUC-ROC indica que el modelo tiene un rendimiento ligeramente mejor que una clasificación aleatoria, pero aún tiene margen de mejora. Idealmente, el AUC-ROC debería estar más cerca de 100% para indicar un mejor rendimiento en la separabilidad de las clases."
   ]
  }
 ],
 "metadata": {
  "kernelspec": {
   "display_name": "base",
   "language": "python",
   "name": "python3"
  },
  "language_info": {
   "codemirror_mode": {
    "name": "ipython",
    "version": 3
   },
   "file_extension": ".py",
   "mimetype": "text/x-python",
   "name": "python",
   "nbconvert_exporter": "python",
   "pygments_lexer": "ipython3",
   "version": "3.10.9"
  },
  "orig_nbformat": 4
 },
 "nbformat": 4,
 "nbformat_minor": 2
}
